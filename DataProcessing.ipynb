{
 "cells": [
  {
   "cell_type": "code",
   "execution_count": 1,
   "metadata": {},
   "outputs": [],
   "source": [
    "# -*-coding:utf8-*-\n",
    "import pandas as pd\n",
    "import numpy as np\n",
    "import json\n",
    "import matplotlib.pyplot as plt\n",
    "import seaborn as sns\n",
    "\n",
    "%matplotlib inline\n",
    "sns.set()\n",
    "\n",
    "df_chat = pd.read_csv('/home/wilson/Downloads/group_chat_content(14).csv',encoding='utf_8_sig')\n",
    "df_chat.drop(['robot_id','user_signature','region','city','robot_displayname','user_info','id'], axis=1,inplace=True)"
   ]
  },
  {
   "cell_type": "code",
   "execution_count": 2,
   "metadata": {},
   "outputs": [
    {
     "data": {
      "text/plain": [
       "Index(['group_displayname', 'user_nickname', 'content', 'content_type',\n",
       "       'time'],\n",
       "      dtype='object')"
      ]
     },
     "execution_count": 2,
     "metadata": {},
     "output_type": "execute_result"
    }
   ],
   "source": [
    "df_chat.columns"
   ]
  },
  {
   "cell_type": "code",
   "execution_count": 3,
   "metadata": {},
   "outputs": [],
   "source": [
    "df_chat['time'] = pd.to_datetime(df_chat['time'], unit='s')"
   ]
  },
  {
   "cell_type": "code",
   "execution_count": 4,
   "metadata": {},
   "outputs": [],
   "source": [
    "df_chat.drop(['group_displayname','user_nickname','content_type'], axis=1, inplace=True)"
   ]
  },
  {
   "cell_type": "code",
   "execution_count": 10,
   "metadata": {},
   "outputs": [
    {
     "ename": "NameError",
     "evalue": "name 'end' is not defined",
     "output_type": "error",
     "traceback": [
      "\u001b[0;31m---------------------------------------------------------------------------\u001b[0m",
      "\u001b[0;31mNameError\u001b[0m                                 Traceback (most recent call last)",
      "\u001b[0;32m<ipython-input-10-678af1fd3c58>\u001b[0m in \u001b[0;36m<module>\u001b[0;34m()\u001b[0m\n\u001b[0;32m----> 1\u001b[0;31m \u001b[0mdf_chat\u001b[0m\u001b[0;34m[\u001b[0m\u001b[0;34m'time'\u001b[0m\u001b[0;34m]\u001b[0m\u001b[0;34m[\u001b[0m\u001b[0mend\u001b[0m\u001b[0;34m]\u001b[0m\u001b[0;34m\u001b[0m\u001b[0m\n\u001b[0m",
      "\u001b[0;31mNameError\u001b[0m: name 'end' is not defined"
     ]
    }
   ],
   "source": [
    "df_chat['time'][]"
   ]
  },
  {
   "cell_type": "code",
   "execution_count": 5,
   "metadata": {},
   "outputs": [
    {
     "data": {
      "text/plain": [
       "time\n",
       "2018-04-24 19:31:39    1\n",
       "2018-04-24 19:37:34    1\n",
       "2018-04-24 19:48:29    1\n",
       "2018-04-24 19:50:46    1\n",
       "2018-04-24 19:53:08    1\n",
       "2018-04-24 19:53:53    1\n",
       "2018-04-24 19:56:06    1\n",
       "2018-04-24 19:56:12    1\n",
       "2018-04-24 19:58:52    1\n",
       "2018-04-24 19:59:08    1\n",
       "2018-04-24 20:01:26    1\n",
       "2018-04-24 20:03:21    1\n",
       "2018-04-24 20:07:38    1\n",
       "2018-04-24 20:07:40    1\n",
       "2018-04-24 20:07:42    1\n",
       "2018-04-24 20:07:45    1\n",
       "2018-04-24 20:12:57    1\n",
       "2018-04-24 20:16:52    1\n",
       "2018-04-24 20:16:58    1\n",
       "2018-04-24 20:21:43    1\n",
       "2018-04-24 20:26:02    1\n",
       "2018-04-24 20:30:43    1\n",
       "2018-04-24 20:30:49    1\n",
       "2018-04-24 20:40:33    1\n",
       "2018-04-24 20:44:18    1\n",
       "2018-04-24 20:45:58    1\n",
       "2018-04-24 20:47:39    1\n",
       "2018-04-24 20:55:56    1\n",
       "2018-04-24 21:00:46    1\n",
       "2018-04-24 21:07:26    1\n",
       "                      ..\n",
       "2018-05-07 00:19:55    1\n",
       "2018-05-07 00:20:02    1\n",
       "2018-05-07 00:20:03    1\n",
       "2018-05-07 00:20:25    1\n",
       "2018-05-07 00:20:27    1\n",
       "2018-05-07 00:20:29    1\n",
       "2018-05-07 00:21:44    1\n",
       "2018-05-07 00:21:47    1\n",
       "2018-05-07 00:22:03    1\n",
       "2018-05-07 00:23:18    1\n",
       "2018-05-07 00:23:45    1\n",
       "2018-05-07 00:24:06    1\n",
       "2018-05-07 00:24:32    1\n",
       "2018-05-07 00:24:55    1\n",
       "2018-05-07 00:25:07    1\n",
       "2018-05-07 00:25:37    1\n",
       "2018-05-07 00:26:15    1\n",
       "2018-05-07 00:26:59    1\n",
       "2018-05-07 00:27:07    1\n",
       "2018-05-07 00:27:10    1\n",
       "2018-05-07 00:27:22    1\n",
       "2018-05-07 00:29:12    1\n",
       "2018-05-07 00:30:53    1\n",
       "2018-05-07 00:30:58    1\n",
       "2018-05-07 00:32:08    1\n",
       "2018-05-07 00:32:13    1\n",
       "2018-05-07 00:32:47    1\n",
       "2018-05-07 00:33:12    1\n",
       "2018-05-07 00:35:27    1\n",
       "2018-05-07 00:36:03    1\n",
       "Name: content, Length: 10162, dtype: int64"
      ]
     },
     "execution_count": 5,
     "metadata": {},
     "output_type": "execute_result"
    }
   ],
   "source": [
    "df_chat['content'].groupby([df_chat.time]).count()"
   ]
  },
  {
   "cell_type": "code",
   "execution_count": 6,
   "metadata": {},
   "outputs": [
    {
     "ename": "NameError",
     "evalue": "name 'df' is not defined",
     "output_type": "error",
     "traceback": [
      "\u001b[0;31m---------------------------------------------------------------------------\u001b[0m",
      "\u001b[0;31mNameError\u001b[0m                                 Traceback (most recent call last)",
      "\u001b[0;32m<ipython-input-6-49620d09a0f7>\u001b[0m in \u001b[0;36m<module>\u001b[0;34m()\u001b[0m\n\u001b[1;32m      1\u001b[0m \u001b[0mdf_chat\u001b[0m\u001b[0;34m.\u001b[0m\u001b[0mplot\u001b[0m\u001b[0;34m(\u001b[0m\u001b[0;34m)\u001b[0m\u001b[0;34m\u001b[0m\u001b[0m\n\u001b[0;32m----> 2\u001b[0;31m \u001b[0mdf\u001b[0m\u001b[0;34m.\u001b[0m\u001b[0mshow\u001b[0m\u001b[0;34m(\u001b[0m\u001b[0;34m)\u001b[0m\u001b[0;34m\u001b[0m\u001b[0m\n\u001b[0m",
      "\u001b[0;31mNameError\u001b[0m: name 'df' is not defined"
     ]
    },
    {
     "data": {
      "image/png": "[encoded data removed]",
      "text/plain": [
       "<Figure size 432x288 with 1 Axes>"
      ]
     },
     "metadata": {},
     "output_type": "display_data"
    }
   ],
   "source": [
    "df_chat.set_index('time',inplace=True)\n",
    "df_chat.plot()\n",
    "df_chat.show()"
   ]
  }
 ],
 "metadata": {
  "kernelspec": {
   "display_name": "Python 3",
   "language": "python",
   "name": "python3"
  },
  "language_info": {
   "codemirror_mode": {
    "name": "ipython",
    "version": 3
   },
   "file_extension": ".py",
   "mimetype": "text/x-python",
   "name": "python",
   "nbconvert_exporter": "python",
   "pygments_lexer": "ipython3",
   "version": "3.5.2"
  }
 },
 "nbformat": 4,
 "nbformat_minor": 2
}
