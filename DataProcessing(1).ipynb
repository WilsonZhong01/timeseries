{
 "cells": [
  {
   "cell_type": "code",
   "execution_count": 1,
   "metadata": {},
   "outputs": [],
   "source": [
    "# -*-coding:utf8-*-\n",
    "import pandas as pd\n",
    "import numpy as np\n",
    "import json\n",
    "import matplotlib.pyplot as plt\n",
    "import seaborn as sns\n",
    "\n",
    "%matplotlib inline\n",
    "sns.set()\n",
    "\n",
    "df_chat = pd.read_csv('/home/wilson/Downloads/group_chat_content(14).csv',encoding='utf_8_sig')\n",
    "df_chat.drop(['robot_id','user_signature','region','city','robot_displayname','user_info','id'], axis=1,inplace=True)"
   ]
  },
  {
   "cell_type": "code",
   "execution_count": 2,
   "metadata": {},
   "outputs": [
    {
     "data": {
      "text/plain": [
       "Index(['group_displayname', 'user_nickname', 'content', 'content_type',\n",
       "       'time'],\n",
       "      dtype='object')"
      ]
     },
     "execution_count": 2,
     "metadata": {},
     "output_type": "execute_result"
    }
   ],
   "source": [
    "df_chat.columns"
   ]
  },
  {
   "cell_type": "code",
   "execution_count": 3,
   "metadata": {},
   "outputs": [],
   "source": [
    "df_chat['time'] = pd.to_datetime(df_chat['time'], unit='s')"
   ]
  },
  {
   "cell_type": "code",
   "execution_count": 4,
   "metadata": {},
   "outputs": [],
   "source": [
    "df_chat.drop(['group_displayname','user_nickname','content_type'], axis=1, inplace=True)"
   ]
  },
  {
   "cell_type": "code",
   "execution_count": 5,
   "metadata": {},
   "outputs": [],
   "source": [
    "df_chat.set_index('time',inplace=True)"
   ]
  },
  {
   "cell_type": "code",
   "execution_count": 7,
   "metadata": {},
   "outputs": [
    {
     "data": {
      "text/html": [
       "<div>\n",
       "<style scoped>\n",
       "    .dataframe tbody tr th:only-of-type {\n",
       "        vertical-align: middle;\n",
       "    }\n",
       "\n",
       "    .dataframe tbody tr th {\n",
       "        vertical-align: top;\n",
       "    }\n",
       "\n",
       "    .dataframe thead th {\n",
       "        text-align: right;\n",
       "    }\n",
       "</style>\n",
       "<table border=\"1\" class=\"dataframe\">\n",
       "  <thead>\n",
       "    <tr style=\"text-align: right;\">\n",
       "      <th></th>\n",
       "      <th>content</th>\n",
       "    </tr>\n",
       "    <tr>\n",
       "      <th>time</th>\n",
       "      <th></th>\n",
       "    </tr>\n",
       "  </thead>\n",
       "  <tbody>\n",
       "    <tr>\n",
       "      <th>2018-04-24 19:31:39</th>\n",
       "      <td>恭喜恭喜！</td>\n",
       "    </tr>\n",
       "    <tr>\n",
       "      <th>2018-04-24 19:37:34</th>\n",
       "      <td>哦</td>\n",
       "    </tr>\n",
       "    <tr>\n",
       "      <th>2018-04-24 19:48:29</th>\n",
       "      <td>面对罪犯挥舞手中的手枪，那个警员冒着危险，冷静处理这事，抓住了罪犯，值得称赞👍 - 这种情况...</td>\n",
       "    </tr>\n",
       "    <tr>\n",
       "      <th>2018-04-24 19:50:46</th>\n",
       "      <td>周教练教的好[呲牙]</td>\n",
       "    </tr>\n",
       "    <tr>\n",
       "      <th>2018-04-24 19:53:08</th>\n",
       "      <td>提供明天中午去多伦多的carpool</td>\n",
       "    </tr>\n",
       "  </tbody>\n",
       "</table>\n",
       "</div>"
      ],
      "text/plain": [
       "                                                               content\n",
       "time                                                                  \n",
       "2018-04-24 19:31:39                                              恭喜恭喜！\n",
       "2018-04-24 19:37:34                                                  哦\n",
       "2018-04-24 19:48:29  面对罪犯挥舞手中的手枪，那个警员冒着危险，冷静处理这事，抓住了罪犯，值得称赞👍 - 这种情况...\n",
       "2018-04-24 19:50:46                                         周教练教的好[呲牙]\n",
       "2018-04-24 19:53:08                                 提供明天中午去多伦多的carpool"
      ]
     },
     "execution_count": 7,
     "metadata": {},
     "output_type": "execute_result"
    }
   ],
   "source": []
  },
  {
   "cell_type": "code",
   "execution_count": null,
   "metadata": {},
   "outputs": [],
   "source": [
    "Plot binned counts of a timeseries with pandas"
   ]
  }
 ],
 "metadata": {
  "kernelspec": {
   "display_name": "Python 3",
   "language": "python",
   "name": "python3"
  },
  "language_info": {
   "codemirror_mode": {
    "name": "ipython",
    "version": 3
   },
   "file_extension": ".py",
   "mimetype": "text/x-python",
   "name": "python",
   "nbconvert_exporter": "python",
   "pygments_lexer": "ipython3",
   "version": "3.5.2"
  }
 },
 "nbformat": 4,
 "nbformat_minor": 2
}
